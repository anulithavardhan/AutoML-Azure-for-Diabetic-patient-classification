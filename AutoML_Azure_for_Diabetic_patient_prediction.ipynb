{
  "cells": [
    {
      "cell_type": "markdown",
      "source": [
        "#Using Auto ML to classify Diabetic patients"
      ],
      "metadata": {
        "id": "hFoxGY7bFT-e"
      },
      "id": "hFoxGY7bFT-e"
    },
    {
      "cell_type": "code",
      "execution_count": null,
      "id": "02379ff6-7847-46c6-91e2-491bb6d95f0a",
      "metadata": {
        "id": "02379ff6-7847-46c6-91e2-491bb6d95f0a",
        "outputId": "180ca4bd-6ca3-4c7e-cb51-9fb03f047b93"
      },
      "outputs": [
        {
          "name": "stdout",
          "output_type": "stream",
          "text": [
            "Name: azureml-train-automl\n",
            "Version: 1.48.0\n",
            "Summary: Used for automatically finding the best machine learning model and its parameters.\n",
            "Home-page: https://docs.microsoft.com/python/api/overview/azure/ml/?view=azure-ml-py\n",
            "Author: Microsoft Corp\n",
            "Author-email: None\n",
            "License: https://aka.ms/azureml-sdk-license\n",
            "Location: /anaconda/envs/azureml_py38/lib/python3.8/site-packages\n",
            "Requires: azureml-train-automl-runtime, azureml-automl-runtime, azureml-train-automl-client, azureml-dataset-runtime, azureml-automl-core\n",
            "Required-by: azureml-automl-dnn-nlp\n",
            "Note: you may need to restart the kernel to use updated packages.\n"
          ]
        }
      ],
      "source": [
        "pip show azureml-train-automl"
      ]
    },
    {
      "cell_type": "code",
      "execution_count": null,
      "id": "5edbc7cc-4d08-4413-87ff-b70d1c854ff7",
      "metadata": {
        "id": "5edbc7cc-4d08-4413-87ff-b70d1c854ff7",
        "outputId": "bcf87068-1996-4e84-9a27-3f49f678b87f"
      },
      "outputs": [
        {
          "name": "stdout",
          "output_type": "stream",
          "text": [
            "Ready to use Azure ML 1.48.0 to work with dsba6190ml\n"
          ]
        }
      ],
      "source": [
        "import azureml.core\n",
        "from azureml.core import Workspace\n",
        "\n",
        "# Load the workspace from the saved config file\n",
        "ws = Workspace.from_config()\n",
        "print('Ready to use Azure ML {} to work with {}'.format(azureml.core.VERSION, ws.name))"
      ]
    },
    {
      "cell_type": "code",
      "execution_count": null,
      "id": "241d737d-60e4-4cf4-bdb8-cbe9a4e99ecc",
      "metadata": {
        "id": "241d737d-60e4-4cf4-bdb8-cbe9a4e99ecc",
        "outputId": "0473dfc0-f9a1-4d5c-a782-e5fbe4aa1745"
      },
      "outputs": [
        {
          "name": "stdout",
          "output_type": "stream",
          "text": [
            "Dataset already registered.\n",
            "Data ready!\n"
          ]
        }
      ],
      "source": [
        "from azureml.core import Dataset\n",
        "\n",
        "default_ds = ws.get_default_datastore()\n",
        "\n",
        "if 'diabetes dataset' not in ws.datasets:\n",
        "    default_ds.upload_files(files=['./data/diabetes.csv', './data/diabetes2.csv'], # Upload the diabetes csv files in /data\n",
        "                        target_path='diabetes-data/', # Put it in a folder path in the datastore\n",
        "                        overwrite=True, # Replace existing files of the same name\n",
        "                        show_progress=True)\n",
        "\n",
        "    #Create a tabular dataset from the path on the datastore (this may take a short while)\n",
        "    tab_data_set = Dataset.Tabular.from_delimited_files(path=(default_ds, 'diabetes-data/*.csv'))\n",
        "\n",
        "    # Register the tabular dataset\n",
        "    try:\n",
        "        tab_data_set = tab_data_set.register(workspace=ws, \n",
        "                                name='diabetes dataset',\n",
        "                                description='diabetes data',\n",
        "                                tags = {'format':'CSV'},\n",
        "                                create_new_version=True)\n",
        "        print('Dataset registered.')\n",
        "    except Exception as ex:\n",
        "        print(ex)\n",
        "else:\n",
        "    print('Dataset already registered.')\n",
        "\n",
        "\n",
        "# Split the dataset into training and validation subsets\n",
        "diabetes_ds = ws.datasets.get(\"diabetes dataset\")\n",
        "train_ds, test_ds = diabetes_ds.random_split(percentage=0.7, seed=123)\n",
        "print(\"Data ready!\")"
      ]
    },
    {
      "cell_type": "code",
      "execution_count": null,
      "id": "fbf357f2-c21b-432b-8e30-9341cbf91d71",
      "metadata": {
        "id": "fbf357f2-c21b-432b-8e30-9341cbf91d71",
        "outputId": "8c0cbf3a-bf02-4452-afdb-ea031515672b"
      },
      "outputs": [
        {
          "name": "stdout",
          "output_type": "stream",
          "text": [
            "InProgress..\n",
            "SucceededProvisioning operation finished, operation \"Succeeded\"\n",
            "Succeeded\n",
            "AmlCompute wait for completion finished\n",
            "\n",
            "Minimum number of nodes requested have been provisioned\n"
          ]
        }
      ],
      "source": [
        "from azureml.core.compute import ComputeTarget, AmlCompute\n",
        "from azureml.core.compute_target import ComputeTargetException\n",
        "\n",
        "cluster_name = \"gamma-amarripe-automl\"\n",
        "\n",
        "try:\n",
        "    # Check for existing compute target\n",
        "    training_cluster = ComputeTarget(workspace=ws, name=cluster_name)\n",
        "    print('Found existing cluster, use it.')\n",
        "except ComputeTargetException:\n",
        "    # If it doesn't already exist, create it\n",
        "    try:\n",
        "        compute_config = AmlCompute.provisioning_configuration(vm_size='STANDARD_DS11_V2', max_nodes=2)\n",
        "        training_cluster = ComputeTarget.create(ws, cluster_name, compute_config)\n",
        "        training_cluster.wait_for_completion(show_output=True)\n",
        "    except Exception as ex:\n",
        "        print(ex)"
      ]
    },
    {
      "cell_type": "code",
      "execution_count": null,
      "id": "a3f7d6b3-1310-46b2-be5e-540472683fd5",
      "metadata": {
        "id": "a3f7d6b3-1310-46b2-be5e-540472683fd5",
        "outputId": "4ac95c82-0a32-4d8f-cd11-8f596ff7fd25"
      },
      "outputs": [
        {
          "name": "stdout",
          "output_type": "stream",
          "text": [
            "accuracy\n",
            "AUC_weighted\n",
            "average_precision_score_weighted\n",
            "norm_macro_recall\n",
            "precision_score_weighted\n"
          ]
        }
      ],
      "source": [
        "import azureml.train.automl.utilities as automl_utils\n",
        "\n",
        "for metric in automl_utils.get_primary_metrics('classification'):\n",
        "    print(metric)"
      ]
    },
    {
      "cell_type": "code",
      "execution_count": null,
      "id": "29cb0867-1601-4b17-976c-4b155ef704b5",
      "metadata": {
        "id": "29cb0867-1601-4b17-976c-4b155ef704b5",
        "outputId": "324f7555-b67c-4107-e6bd-071cddc319c6"
      },
      "outputs": [
        {
          "name": "stdout",
          "output_type": "stream",
          "text": [
            "Ready for Auto ML run.\n"
          ]
        }
      ],
      "source": [
        "from azureml.train.automl import AutoMLConfig\n",
        "\n",
        "automl_config = AutoMLConfig(name='Automated ML Experiment',\n",
        "                             task='classification',\n",
        "                             compute_target=training_cluster,\n",
        "                             training_data = train_ds,\n",
        "                             validation_data = test_ds,\n",
        "                             label_column_name='Diabetic',\n",
        "                             iterations=4,\n",
        "                             primary_metric = 'accuracy',\n",
        "                             max_concurrent_iterations=2,\n",
        "                             featurization='auto'\n",
        "                             )\n",
        "\n",
        "print(\"Ready for Auto ML run.\")\n",
        "     "
      ]
    },
    {
      "cell_type": "code",
      "execution_count": null,
      "id": "69a2c97e-c68b-4670-84a6-41da522841a9",
      "metadata": {
        "tags": [],
        "colab": {
          "referenced_widgets": [
            "d29a5306bbfe43b7aaf528beb8e457de"
          ]
        },
        "id": "69a2c97e-c68b-4670-84a6-41da522841a9",
        "outputId": "22a5389b-16dc-4d03-cab2-60a3ffd305d4"
      },
      "outputs": [
        {
          "name": "stdout",
          "output_type": "stream",
          "text": [
            "Submitting Auto ML experiment...\n",
            "Submitting remote run.\n"
          ]
        },
        {
          "data": {
            "text/html": [
              "<table style=\"width:100%\"><tr><th>Experiment</th><th>Id</th><th>Type</th><th>Status</th><th>Details Page</th><th>Docs Page</th></tr><tr><td>mslearn-diabetes-automl-sdk</td><td>AutoML_c8c8ea84-30b2-4eca-86eb-70b1d93365ba</td><td>automl</td><td>NotStarted</td><td><a href=\"https://ml.azure.com/runs/AutoML_c8c8ea84-30b2-4eca-86eb-70b1d93365ba?wsid=/subscriptions/0bb59590-d012-407d-a545-7513aae8c4a7/resourcegroups/dsba6190-class-rg/workspaces/dsba6190ml&amp;tid=88d59d7d-aecb-41b2-90c5-55595de02536\" target=\"_blank\" rel=\"noopener\">Link to Azure Machine Learning studio</a></td><td><a href=\"https://docs.microsoft.com/en-us/python/api/overview/azure/ml/intro?view=azure-ml-py\" target=\"_blank\" rel=\"noopener\">Link to Documentation</a></td></tr></table>"
            ],
            "text/plain": [
              "<IPython.core.display.HTML object>"
            ]
          },
          "metadata": {},
          "output_type": "display_data"
        },
        {
          "data": {
            "application/vnd.jupyter.widget-view+json": {
              "model_id": "d29a5306bbfe43b7aaf528beb8e457de",
              "version_major": 2,
              "version_minor": 0
            },
            "text/plain": [
              "_AutoMLWidget(widget_settings={'childWidgetDisplay': 'popup', 'send_telemetry': False, 'log_level': 'INFO', 's…"
            ]
          },
          "metadata": {},
          "output_type": "display_data"
        },
        {
          "data": {
            "application/aml.mini.widget.v1": "{\"status\": \"Completed\", \"workbench_run_details_uri\": \"https://ml.azure.com/runs/AutoML_c8c8ea84-30b2-4eca-86eb-70b1d93365ba?wsid=/subscriptions/0bb59590-d012-407d-a545-7513aae8c4a7/resourcegroups/dsba6190-class-rg/workspaces/dsba6190ml&tid=88d59d7d-aecb-41b2-90c5-55595de02536\", \"run_id\": \"AutoML_c8c8ea84-30b2-4eca-86eb-70b1d93365ba\", \"run_properties\": {\"run_id\": \"AutoML_c8c8ea84-30b2-4eca-86eb-70b1d93365ba\", \"created_utc\": \"2023-03-25T20:11:53.587807Z\", \"properties\": {\"num_iterations\": \"4\", \"training_type\": \"TrainFull\", \"acquisition_function\": \"EI\", \"primary_metric\": \"accuracy\", \"train_split\": \"0\", \"acquisition_parameter\": \"0\", \"num_cross_validation\": null, \"target\": \"gamma-amarripe-automl\", \"AMLSettingsJsonString\": \"{\\\"path\\\":null,\\\"name\\\":\\\"Automated ML Experiment\\\",\\\"subscription_id\\\":\\\"0bb59590-d012-407d-a545-7513aae8c4a7\\\",\\\"resource_group\\\":\\\"dsba6190-class-rg\\\",\\\"workspace_name\\\":\\\"dsba6190ml\\\",\\\"region\\\":\\\"eastus\\\",\\\"compute_target\\\":\\\"gamma-amarripe-automl\\\",\\\"spark_service\\\":null,\\\"azure_service\\\":\\\"remote\\\",\\\"many_models\\\":false,\\\"pipeline_fetch_max_batch_size\\\":1,\\\"enable_batch_run\\\":true,\\\"enable_parallel_run\\\":false,\\\"num_procs\\\":null,\\\"enable_run_restructure\\\":false,\\\"start_auxiliary_runs_before_parent_complete\\\":false,\\\"enable_code_generation\\\":true,\\\"iterations\\\":4,\\\"primary_metric\\\":\\\"accuracy\\\",\\\"task_type\\\":\\\"classification\\\",\\\"positive_label\\\":null,\\\"data_script\\\":null,\\\"test_size\\\":0.0,\\\"test_include_predictions_only\\\":false,\\\"validation_size\\\":0.0,\\\"n_cross_validations\\\":null,\\\"y_min\\\":null,\\\"y_max\\\":null,\\\"num_classes\\\":null,\\\"featurization\\\":\\\"auto\\\",\\\"_ignore_package_version_incompatibilities\\\":false,\\\"is_timeseries\\\":false,\\\"max_cores_per_iteration\\\":1,\\\"max_concurrent_iterations\\\":2,\\\"iteration_timeout_minutes\\\":null,\\\"mem_in_mb\\\":null,\\\"enforce_time_on_windows\\\":false,\\\"experiment_timeout_minutes\\\":8640,\\\"experiment_exit_score\\\":null,\\\"partition_column_names\\\":null,\\\"whitelist_models\\\":null,\\\"blacklist_algos\\\":[\\\"TensorFlowLinearClassifier\\\",\\\"TensorFlowDNN\\\"],\\\"supported_models\\\":[\\\"SVM\\\",\\\"DecisionTree\\\",\\\"TensorFlowDNN\\\",\\\"XGBoostClassifier\\\",\\\"LinearSVM\\\",\\\"GradientBoosting\\\",\\\"RandomForest\\\",\\\"LogisticRegression\\\",\\\"AveragedPerceptronClassifier\\\",\\\"LightGBM\\\",\\\"SGD\\\",\\\"KNN\\\",\\\"TensorFlowLinearClassifier\\\",\\\"BernoulliNaiveBayes\\\",\\\"ExtremeRandomTrees\\\",\\\"TabnetClassifier\\\",\\\"MultinomialNaiveBayes\\\"],\\\"private_models\\\":[],\\\"auto_blacklist\\\":true,\\\"blacklist_samples_reached\\\":false,\\\"exclude_nan_labels\\\":true,\\\"verbosity\\\":20,\\\"_debug_log\\\":\\\"azureml_automl.log\\\",\\\"show_warnings\\\":false,\\\"model_explainability\\\":true,\\\"service_url\\\":null,\\\"sdk_url\\\":null,\\\"sdk_packages\\\":null,\\\"enable_onnx_compatible_models\\\":false,\\\"enable_split_onnx_featurizer_estimator_models\\\":false,\\\"vm_type\\\":\\\"STANDARD_DS11_V2\\\",\\\"telemetry_verbosity\\\":20,\\\"send_telemetry\\\":true,\\\"enable_dnn\\\":false,\\\"scenario\\\":\\\"AutoML\\\",\\\"environment_label\\\":null,\\\"save_mlflow\\\":false,\\\"enable_categorical_indicators\\\":false,\\\"force_text_dnn\\\":false,\\\"enable_feature_sweeping\\\":true,\\\"enable_early_stopping\\\":true,\\\"early_stopping_n_iters\\\":10,\\\"arguments\\\":null,\\\"dataset_id\\\":\\\"c615cfa6-53a6-48a7-a97a-169a4c0b13fb\\\",\\\"hyperdrive_config\\\":null,\\\"validation_dataset_id\\\":\\\"7e90cb3b-f4a6-4d62-bbd8-455415239ab6\\\",\\\"run_source\\\":null,\\\"metrics\\\":null,\\\"enable_metric_confidence\\\":false,\\\"enable_ensembling\\\":true,\\\"enable_stack_ensembling\\\":true,\\\"ensemble_iterations\\\":4,\\\"enable_tf\\\":false,\\\"enable_subsampling\\\":false,\\\"subsample_seed\\\":null,\\\"enable_nimbusml\\\":false,\\\"enable_streaming\\\":false,\\\"force_streaming\\\":false,\\\"track_child_runs\\\":true,\\\"n_best_runs\\\":1,\\\"allowed_private_models\\\":[],\\\"label_column_name\\\":\\\"Diabetic\\\",\\\"weight_column_name\\\":null,\\\"cv_split_column_names\\\":null,\\\"enable_local_managed\\\":false,\\\"_local_managed_run_id\\\":null,\\\"cost_mode\\\":1,\\\"lag_length\\\":0,\\\"metric_operation\\\":\\\"maximize\\\",\\\"preprocess\\\":true}\", \"DataPrepJsonString\": \"{\\\\\\\"training_data\\\\\\\": {\\\\\\\"datasetId\\\\\\\": \\\\\\\"c615cfa6-53a6-48a7-a97a-169a4c0b13fb\\\\\\\"}, \\\\\\\"validation_data\\\\\\\": {\\\\\\\"datasetId\\\\\\\": \\\\\\\"7e90cb3b-f4a6-4d62-bbd8-455415239ab6\\\\\\\"}, \\\\\\\"datasets\\\\\\\": 0}\", \"EnableSubsampling\": \"False\", \"runTemplate\": \"AutoML\", \"azureml.runsource\": \"automl\", \"display_task_type\": \"classification\", \"dependencies_versions\": \"{\\\"azureml-widgets\\\": \\\"1.48.0\\\", \\\"azureml-training-tabular\\\": \\\"1.48.0\\\", \\\"azureml-train\\\": \\\"1.48.0\\\", \\\"azureml-train-restclients-hyperdrive\\\": \\\"1.48.0\\\", \\\"azureml-train-core\\\": \\\"1.48.0\\\", \\\"azureml-train-automl\\\": \\\"1.48.0\\\", \\\"azureml-train-automl-runtime\\\": \\\"1.48.0\\\", \\\"azureml-train-automl-client\\\": \\\"1.48.0\\\", \\\"azureml-tensorboard\\\": \\\"1.48.0\\\", \\\"azureml-telemetry\\\": \\\"1.48.0\\\", \\\"azureml-sdk\\\": \\\"1.48.0\\\", \\\"azureml-samples\\\": \\\"0+unknown\\\", \\\"azureml-responsibleai\\\": \\\"1.48.0\\\", \\\"azureml-pipeline\\\": \\\"1.48.0\\\", \\\"azureml-pipeline-steps\\\": \\\"1.48.0\\\", \\\"azureml-pipeline-core\\\": \\\"1.48.0\\\", \\\"azureml-opendatasets\\\": \\\"1.48.0\\\", \\\"azureml-mlflow\\\": \\\"1.48.0\\\", \\\"azureml-interpret\\\": \\\"1.48.0\\\", \\\"azureml-inference-server-http\\\": \\\"0.7.7\\\", \\\"azureml-explain-model\\\": \\\"1.48.0\\\", \\\"azureml-defaults\\\": \\\"1.48.0\\\", \\\"azureml-dataset-runtime\\\": \\\"1.48.0\\\", \\\"azureml-dataprep\\\": \\\"4.8.3\\\", \\\"azureml-dataprep-rslex\\\": \\\"2.15.1\\\", \\\"azureml-dataprep-native\\\": \\\"38.0.0\\\", \\\"azureml-datadrift\\\": \\\"1.48.0\\\", \\\"azureml-core\\\": \\\"1.48.0\\\", \\\"azureml-contrib-services\\\": \\\"1.48.0\\\", \\\"azureml-contrib-server\\\": \\\"1.48.0\\\", \\\"azureml-contrib-reinforcementlearning\\\": \\\"1.48.0\\\", \\\"azureml-contrib-pipeline-steps\\\": \\\"1.48.0\\\", \\\"azureml-contrib-notebook\\\": \\\"1.48.0\\\", \\\"azureml-contrib-fairness\\\": \\\"1.48.0\\\", \\\"azureml-contrib-dataset\\\": \\\"1.48.0\\\", \\\"azureml-contrib-automl-pipeline-steps\\\": \\\"1.48.0\\\", \\\"azureml-cli-common\\\": \\\"1.48.0\\\", \\\"azureml-automl-runtime\\\": \\\"1.48.0.post1\\\", \\\"azureml-automl-dnn-nlp\\\": \\\"1.48.0\\\", \\\"azureml-automl-core\\\": \\\"1.48.0\\\", \\\"azureml-accel-models\\\": \\\"1.48.0\\\"}\", \"_aml_system_scenario_identification\": \"Remote.Parent\", \"ClientType\": \"SDK\", \"PlatformVersion\": \"DPV1\", \"environment_cpu_name\": \"AzureML-AutoML\", \"environment_cpu_label\": \"nimbus-deprecation\", \"environment_gpu_name\": \"AzureML-AutoML-GPU\", \"environment_gpu_label\": \"prod\", \"root_attribution\": \"automl\", \"attribution\": \"AutoML\", \"Orchestrator\": \"AutoML\", \"CancelUri\": \"https://eastus.api.azureml.ms/jasmine/v1.0/subscriptions/0bb59590-d012-407d-a545-7513aae8c4a7/resourceGroups/dsba6190-class-rg/providers/Microsoft.MachineLearningServices/workspaces/dsba6190ml/experimentids/f4f2ee92-a05d-4b08-856a-6167252eefc7/cancel/AutoML_c8c8ea84-30b2-4eca-86eb-70b1d93365ba\", \"ClientSdkVersion\": \"1.48.0.post2\", \"snapshotId\": \"00000000-0000-0000-0000-000000000000\", \"SetupRunId\": \"AutoML_c8c8ea84-30b2-4eca-86eb-70b1d93365ba_setup\", \"SetupRunContainerId\": \"dcid.AutoML_c8c8ea84-30b2-4eca-86eb-70b1d93365ba_setup\", \"FeaturizationRunJsonPath\": \"featurizer_container.json\", \"FeaturizationRunId\": \"AutoML_c8c8ea84-30b2-4eca-86eb-70b1d93365ba_featurize\", \"ProblemInfoJsonString\": \"{\\\"dataset_num_categorical\\\": 0, \\\"is_sparse\\\": true, \\\"subsampling\\\": false, \\\"has_extra_col\\\": true, \\\"dataset_classes\\\": 2, \\\"dataset_features\\\": 24, \\\"dataset_samples\\\": 5582, \\\"single_frequency_class_detected\\\": false}\", \"ModelExplainRunId\": \"AutoML_c8c8ea84-30b2-4eca-86eb-70b1d93365ba_ModelExplain\"}, \"tags\": {\"model_explain_run\": \"best_run\", \"_aml_system_automl_run_workspace_id\": \"b644e2bd-5782-4132-928d-bc8a1cc173ed\", \"_aml_system_azureml.automlComponent\": \"AutoML\", \"pipeline_id_000\": \"5dfac790c5c209f98a1da2dc1c7fb76f0397324f;c7af0367625be6ac5c2fecbfc72ed444cb7a2111;__AutoML_Stack_Ensemble__;__AutoML_Ensemble__\", \"score\": \"\", \"predicted_cost\": \"\", \"fit_time\": \"\", \"training_percent\": \"\", \"iteration\": \"\", \"run_preprocessor\": \"\", \"run_algorithm\": \"\", \"automl_best_child_run_id\": \"AutoML_c8c8ea84-30b2-4eca-86eb-70b1d93365ba_2\", \"model_explain_best_run_child_id\": \"AutoML_c8c8ea84-30b2-4eca-86eb-70b1d93365ba_2\"}, \"end_time_utc\": \"2023-03-25T20:49:12.13214Z\", \"status\": \"Completed\", \"log_files\": {}, \"log_groups\": [], \"run_duration\": \"0:37:18\", \"run_number\": \"1679775113\", \"run_queued_details\": {\"status\": \"Completed\", \"details\": null}}, \"child_runs\": [{\"run_id\": \"AutoML_c8c8ea84-30b2-4eca-86eb-70b1d93365ba_setup\", \"run_number\": 1679775126, \"metric\": null, \"status\": \"Completed\", \"run_type\": \"azureml.scriptrun\", \"training_percent\": null, \"start_time\": \"2023-03-25T20:44:40.433636Z\", \"end_time\": \"2023-03-25T20:46:14.831882Z\", \"created_time\": \"2023-03-25T20:12:06.559394Z\", \"created_time_dt\": \"2023-03-25T20:12:06.559394Z\", \"duration\": \"0:34:08\", \"iteration\": null, \"goal\": null, \"run_name\": \"Completed\", \"run_properties\": null}, {\"run_id\": \"AutoML_c8c8ea84-30b2-4eca-86eb-70b1d93365ba_featurize\", \"run_number\": 1679777175, \"metric\": null, \"status\": \"Completed\", \"run_type\": \"automl.featurization\", \"training_percent\": null, \"start_time\": \"2023-03-25T20:46:15.712361Z\", \"end_time\": \"2023-03-25T20:47:02.456189Z\", \"created_time\": \"2023-03-25T20:46:15.276438Z\", \"created_time_dt\": \"2023-03-25T20:46:15.276438Z\", \"duration\": \"0:00:47\", \"iteration\": null, \"goal\": null, \"run_name\": \"Completed\", \"run_properties\": null}, {\"run_id\": \"AutoML_c8c8ea84-30b2-4eca-86eb-70b1d93365ba_0\", \"run_number\": 1679777222, \"metric\": null, \"status\": \"Completed\", \"run_type\": null, \"training_percent\": \"100\", \"start_time\": \"2023-03-25T20:47:17.425322Z\", \"end_time\": \"2023-03-25T20:47:27.536924Z\", \"created_time\": \"2023-03-25T20:47:02.959355Z\", \"created_time_dt\": \"2023-03-25T20:47:02.959355Z\", \"duration\": \"0:00:24\", \"iteration\": \"0\", \"goal\": \"accuracy_max\", \"run_name\": \"MaxAbsScaler, LightGBM\", \"run_properties\": \"copy=True\", \"primary_metric\": 0.9432799, \"best_metric\": 0.9432799}, {\"run_id\": \"AutoML_c8c8ea84-30b2-4eca-86eb-70b1d93365ba_worker_0\", \"run_number\": 1679777223, \"metric\": null, \"status\": \"Completed\", \"run_type\": \"azureml.scriptrun\", \"training_percent\": null, \"start_time\": \"2023-03-25T20:47:08.684179Z\", \"end_time\": \"2023-03-25T20:47:35.285335Z\", \"created_time\": \"2023-03-25T20:47:03.265056Z\", \"created_time_dt\": \"2023-03-25T20:47:03.265056Z\", \"duration\": \"0:00:32\", \"iteration\": null, \"goal\": null, \"run_name\": \"Completed\", \"run_properties\": null}, {\"run_id\": \"AutoML_c8c8ea84-30b2-4eca-86eb-70b1d93365ba_3\", \"run_number\": 1679777278, \"metric\": null, \"status\": \"Completed\", \"run_type\": \"azureml.scriptrun\", \"training_percent\": \"100\", \"start_time\": \"2023-03-25T20:48:08.994056Z\", \"end_time\": \"2023-03-25T20:48:39.125722Z\", \"created_time\": \"2023-03-25T20:47:58.625149Z\", \"created_time_dt\": \"2023-03-25T20:47:58.625149Z\", \"duration\": \"0:00:40\", \"iteration\": \"3\", \"goal\": \"accuracy_max\", \"run_name\": \"StackEnsemble\", \"run_properties\": \"base_learners=[('1', Pipeline(memory=None, steps=[('maxabsscaler', MaxAbsScaler(copy=True\", \"primary_metric\": 0.94451295, \"best_metric\": 0.94451295}], \"children_metrics\": {\"categories\": [0], \"series\": {\"average_precision_score_weighted\": [{\"categories\": [\"0\", \"3\"], \"mode\": \"markers\", \"name\": \"average_precision_score_weighted\", \"stepped\": false, \"type\": \"scatter\", \"data\": [0.9876011950777641, 0.9881888244291531]}, {\"categories\": [\"0\", \"3\"], \"mode\": \"lines\", \"name\": \"average_precision_score_weighted_max\", \"stepped\": true, \"type\": \"scatter\", \"data\": [0.9876011950777641, 0.9881888244291531]}], \"recall_score_micro\": [{\"categories\": [\"0\", \"3\"], \"mode\": \"markers\", \"name\": \"recall_score_micro\", \"stepped\": false, \"type\": \"scatter\", \"data\": [0.9432799013563502, 0.9445129469790382]}, {\"categories\": [\"0\", \"3\"], \"mode\": \"lines\", \"name\": \"recall_score_micro_max\", \"stepped\": true, \"type\": \"scatter\", \"data\": [0.9432799013563502, 0.9445129469790382]}], \"precision_score_macro\": [{\"categories\": [\"0\", \"3\"], \"mode\": \"markers\", \"name\": \"precision_score_macro\", \"stepped\": false, \"type\": \"scatter\", \"data\": [0.938115591471739, 0.9391383969601779]}, {\"categories\": [\"0\", \"3\"], \"mode\": \"lines\", \"name\": \"precision_score_macro_max\", \"stepped\": true, \"type\": \"scatter\", \"data\": [0.938115591471739, 0.9391383969601779]}], \"norm_macro_recall\": [{\"categories\": [\"0\", \"3\"], \"mode\": \"markers\", \"name\": \"norm_macro_recall\", \"stepped\": false, \"type\": \"scatter\", \"data\": [0.8687003716684203, 0.872367853331012]}, {\"categories\": [\"0\", \"3\"], \"mode\": \"lines\", \"name\": \"norm_macro_recall_max\", \"stepped\": true, \"type\": \"scatter\", \"data\": [0.8687003716684203, 0.872367853331012]}], \"recall_score_macro\": [{\"categories\": [\"0\", \"3\"], \"mode\": \"markers\", \"name\": \"recall_score_macro\", \"stepped\": false, \"type\": \"scatter\", \"data\": [0.9343501858342101, 0.936183926665506]}, {\"categories\": [\"0\", \"3\"], \"mode\": \"lines\", \"name\": \"recall_score_macro_max\", \"stepped\": true, \"type\": \"scatter\", \"data\": [0.9343501858342101, 0.936183926665506]}], \"average_precision_score_micro\": [{\"categories\": [\"0\", \"3\"], \"mode\": \"markers\", \"name\": \"average_precision_score_micro\", \"stepped\": false, \"type\": \"scatter\", \"data\": [0.988759072759968, 0.9886375540539625]}, {\"categories\": [\"0\", \"3\"], \"mode\": \"lines\", \"name\": \"average_precision_score_micro_max\", \"stepped\": true, \"type\": \"scatter\", \"data\": [0.988759072759968, 0.988759072759968]}], \"f1_score_micro\": [{\"categories\": [\"0\", \"3\"], \"mode\": \"markers\", \"name\": \"f1_score_micro\", \"stepped\": false, \"type\": \"scatter\", \"data\": [0.9432799013563502, 0.9445129469790382]}, {\"categories\": [\"0\", \"3\"], \"mode\": \"lines\", \"name\": \"f1_score_micro_max\", \"stepped\": true, \"type\": \"scatter\", \"data\": [0.9432799013563502, 0.9445129469790382]}], \"AUC_macro\": [{\"categories\": [\"0\", \"3\"], \"mode\": \"markers\", \"name\": \"AUC_macro\", \"stepped\": false, \"type\": \"scatter\", \"data\": [0.9869484584465622, 0.9876108003360913]}, {\"categories\": [\"0\", \"3\"], \"mode\": \"lines\", \"name\": \"AUC_macro_max\", \"stepped\": true, \"type\": \"scatter\", \"data\": [0.9869484584465622, 0.9876108003360913]}], \"recall_score_weighted\": [{\"categories\": [\"0\", \"3\"], \"mode\": \"markers\", \"name\": \"recall_score_weighted\", \"stepped\": false, \"type\": \"scatter\", \"data\": [0.9432799013563502, 0.9445129469790382]}, {\"categories\": [\"0\", \"3\"], \"mode\": \"lines\", \"name\": \"recall_score_weighted_max\", \"stepped\": true, \"type\": \"scatter\", \"data\": [0.9432799013563502, 0.9445129469790382]}], \"precision_score_micro\": [{\"categories\": [\"0\", \"3\"], \"mode\": \"markers\", \"name\": \"precision_score_micro\", \"stepped\": false, \"type\": \"scatter\", \"data\": [0.9432799013563502, 0.9445129469790382]}, {\"categories\": [\"0\", \"3\"], \"mode\": \"lines\", \"name\": \"precision_score_micro_max\", \"stepped\": true, \"type\": \"scatter\", \"data\": [0.9432799013563502, 0.9445129469790382]}], \"f1_score_weighted\": [{\"categories\": [\"0\", \"3\"], \"mode\": \"markers\", \"name\": \"f1_score_weighted\", \"stepped\": false, \"type\": \"scatter\", \"data\": [0.9431575090349859, 0.9444193065684812]}, {\"categories\": [\"0\", \"3\"], \"mode\": \"lines\", \"name\": \"f1_score_weighted_max\", \"stepped\": true, \"type\": \"scatter\", \"data\": [0.9431575090349859, 0.9444193065684812]}], \"f1_score_macro\": [{\"categories\": [\"0\", \"3\"], \"mode\": \"markers\", \"name\": \"f1_score_macro\", \"stepped\": false, \"type\": \"scatter\", \"data\": [0.936189889025894, 0.9376346331853891]}, {\"categories\": [\"0\", \"3\"], \"mode\": \"lines\", \"name\": \"f1_score_macro_max\", \"stepped\": true, \"type\": \"scatter\", \"data\": [0.936189889025894, 0.9376346331853891]}], \"precision_score_weighted\": [{\"categories\": [\"0\", \"3\"], \"mode\": \"markers\", \"name\": \"precision_score_weighted\", \"stepped\": false, \"type\": \"scatter\", \"data\": [0.9431046278087513, 0.9443685756720603]}, {\"categories\": [\"0\", \"3\"], \"mode\": \"lines\", \"name\": \"precision_score_weighted_max\", \"stepped\": true, \"type\": \"scatter\", \"data\": [0.9431046278087513, 0.9443685756720603]}], \"AUC_micro\": [{\"categories\": [\"0\", \"3\"], \"mode\": \"markers\", \"name\": \"AUC_micro\", \"stepped\": false, \"type\": \"scatter\", \"data\": [0.9884790731091821, 0.9886758806376699]}, {\"categories\": [\"0\", \"3\"], \"mode\": \"lines\", \"name\": \"AUC_micro_max\", \"stepped\": true, \"type\": \"scatter\", \"data\": [0.9884790731091821, 0.9886758806376699]}], \"accuracy\": [{\"categories\": [\"0\", \"3\"], \"mode\": \"markers\", \"name\": \"accuracy\", \"stepped\": false, \"type\": \"scatter\", \"data\": [0.9432799013563502, 0.9445129469790382]}, {\"categories\": [\"0\", \"3\"], \"mode\": \"lines\", \"name\": \"accuracy_max\", \"stepped\": true, \"type\": \"scatter\", \"data\": [0.9432799013563502, 0.9445129469790382]}], \"log_loss\": [{\"categories\": [\"0\", \"3\"], \"mode\": \"markers\", \"name\": \"log_loss\", \"stepped\": false, \"type\": \"scatter\", \"data\": [0.13727359155981583, 0.1584244219609924]}, {\"categories\": [\"0\", \"3\"], \"mode\": \"lines\", \"name\": \"log_loss_min\", \"stepped\": true, \"type\": \"scatter\", \"data\": [0.13727359155981583, 0.13727359155981583]}], \"average_precision_score_macro\": [{\"categories\": [\"0\", \"3\"], \"mode\": \"markers\", \"name\": \"average_precision_score_macro\", \"stepped\": false, \"type\": \"scatter\", \"data\": [0.9848236423271103, 0.9855202476824463]}, {\"categories\": [\"0\", \"3\"], \"mode\": \"lines\", \"name\": \"average_precision_score_macro_max\", \"stepped\": true, \"type\": \"scatter\", \"data\": [0.9848236423271103, 0.9855202476824463]}], \"matthews_correlation\": [{\"categories\": [\"0\", \"3\"], \"mode\": \"markers\", \"name\": \"matthews_correlation\", \"stepped\": false, \"type\": \"scatter\", \"data\": [0.8724576518607987, 0.8753173375083714]}, {\"categories\": [\"0\", \"3\"], \"mode\": \"lines\", \"name\": \"matthews_correlation_max\", \"stepped\": true, \"type\": \"scatter\", \"data\": [0.8724576518607987, 0.8753173375083714]}], \"weighted_accuracy\": [{\"categories\": [\"0\", \"3\"], \"mode\": \"markers\", \"name\": \"weighted_accuracy\", \"stepped\": false, \"type\": \"scatter\", \"data\": [0.9504788778979597, 0.9512276538141041]}, {\"categories\": [\"0\", \"3\"], \"mode\": \"lines\", \"name\": \"weighted_accuracy_max\", \"stepped\": true, \"type\": \"scatter\", \"data\": [0.9504788778979597, 0.9512276538141041]}], \"AUC_weighted\": [{\"categories\": [\"0\", \"3\"], \"mode\": \"markers\", \"name\": \"AUC_weighted\", \"stepped\": false, \"type\": \"scatter\", \"data\": [0.9869484584465622, 0.9876108003360913]}, {\"categories\": [\"0\", \"3\"], \"mode\": \"lines\", \"name\": \"AUC_weighted_max\", \"stepped\": true, \"type\": \"scatter\", \"data\": [0.9869484584465622, 0.9876108003360913]}], \"balanced_accuracy\": [{\"categories\": [\"0\", \"3\"], \"mode\": \"markers\", \"name\": \"balanced_accuracy\", \"stepped\": false, \"type\": \"scatter\", \"data\": [0.9343501858342101, 0.936183926665506]}, {\"categories\": [\"0\", \"3\"], \"mode\": \"lines\", \"name\": \"balanced_accuracy_max\", \"stepped\": true, \"type\": \"scatter\", \"data\": [0.9343501858342101, 0.936183926665506]}]}, \"metricName\": null, \"primaryMetricName\": \"accuracy\", \"showLegend\": false}, \"run_metrics\": [{\"name\": \"experiment_status\", \"run_id\": \"AutoML_c8c8ea84-30b2-4eca-86eb-70b1d93365ba\", \"categories\": [0, 1, 2, 3, 4, 5, 6, 7, 8, 9, 10, 11, 12], \"series\": [{\"data\": [\"DatasetEvaluation\", \"FeaturesGeneration\", \"DatasetFeaturization\", \"DatasetFeaturizationCompleted\", \"ModelSelection\", \"BestRunExplainModel\", \"ModelExplanationDataSetSetup\", \"PickSurrogateModel\", \"EngineeredFeatureExplanations\", \"EngineeredFeatureExplanations\", \"RawFeaturesExplanations\", \"RawFeaturesExplanations\", \"BestRunExplainModel\"]}]}, {\"name\": \"experiment_status_description\", \"run_id\": \"AutoML_c8c8ea84-30b2-4eca-86eb-70b1d93365ba\", \"categories\": [0, 1, 2, 3, 4, 5, 6, 7, 8, 9, 10, 11, 12], \"series\": [{\"data\": [\"Gathering dataset statistics.\", \"Generating features for the dataset.\", \"Beginning to fit featurizers and featurize the dataset.\", \"Completed fit featurizers and featurizing the dataset.\", \"Beginning model selection.\", \"Best run model explanations started\", \"Model explanations data setup completed\", \"Choosing LightGBM as the surrogate model for explanations\", \"Computation of engineered features started\", \"Computation of engineered features completed\", \"Computation of raw features started\", \"Computation of raw features completed\", \"Best run model explanations completed\"]}]}, {\"name\": \"weighted_accuracy\", \"run_id\": \"AutoML_c8c8ea84-30b2-4eca-86eb-70b1d93365ba\", \"categories\": [0], \"series\": [{\"data\": [0.9517268377582002]}]}, {\"name\": \"log_loss\", \"run_id\": \"AutoML_c8c8ea84-30b2-4eca-86eb-70b1d93365ba\", \"categories\": [0], \"series\": [{\"data\": [0.13532807040573105]}]}, {\"name\": \"f1_score_micro\", \"run_id\": \"AutoML_c8c8ea84-30b2-4eca-86eb-70b1d93365ba\", \"categories\": [0], \"series\": [{\"data\": [0.9453349773941636]}]}, {\"name\": \"matthews_correlation\", \"run_id\": \"AutoML_c8c8ea84-30b2-4eca-86eb-70b1d93365ba\", \"categories\": [0], \"series\": [{\"data\": [0.877224577993405]}]}, {\"name\": \"precision_score_weighted\", \"run_id\": \"AutoML_c8c8ea84-30b2-4eca-86eb-70b1d93365ba\", \"categories\": [0], \"series\": [{\"data\": [0.945213206940457]}]}, {\"name\": \"precision_score_micro\", \"run_id\": \"AutoML_c8c8ea84-30b2-4eca-86eb-70b1d93365ba\", \"categories\": [0], \"series\": [{\"data\": [0.9453349773941636]}]}, {\"name\": \"accuracy\", \"run_id\": \"AutoML_c8c8ea84-30b2-4eca-86eb-70b1d93365ba\", \"categories\": [0], \"series\": [{\"data\": [0.9453349773941636]}]}, {\"name\": \"AUC_micro\", \"run_id\": \"AutoML_c8c8ea84-30b2-4eca-86eb-70b1d93365ba\", \"categories\": [0], \"series\": [{\"data\": [0.988956648116079]}]}, {\"name\": \"recall_score_micro\", \"run_id\": \"AutoML_c8c8ea84-30b2-4eca-86eb-70b1d93365ba\", \"categories\": [0], \"series\": [{\"data\": [0.9453349773941636]}]}, {\"name\": \"balanced_accuracy\", \"run_id\": \"AutoML_c8c8ea84-30b2-4eca-86eb-70b1d93365ba\", \"categories\": [0], \"series\": [{\"data\": [0.9374064205530366]}]}, {\"name\": \"AUC_weighted\", \"run_id\": \"AutoML_c8c8ea84-30b2-4eca-86eb-70b1d93365ba\", \"categories\": [0], \"series\": [{\"data\": [0.9875373750066233]}]}, {\"name\": \"f1_score_weighted\", \"run_id\": \"AutoML_c8c8ea84-30b2-4eca-86eb-70b1d93365ba\", \"categories\": [0], \"series\": [{\"data\": [0.9452597304994242]}]}, {\"name\": \"average_precision_score_macro\", \"run_id\": \"AutoML_c8c8ea84-30b2-4eca-86eb-70b1d93365ba\", \"categories\": [0], \"series\": [{\"data\": [0.9854426139147703]}]}, {\"name\": \"AUC_macro\", \"run_id\": \"AutoML_c8c8ea84-30b2-4eca-86eb-70b1d93365ba\", \"categories\": [0], \"series\": [{\"data\": [0.9875373750066234]}]}, {\"name\": \"f1_score_macro\", \"run_id\": \"AutoML_c8c8ea84-30b2-4eca-86eb-70b1d93365ba\", \"categories\": [0], \"series\": [{\"data\": [0.9385961999319525]}]}, {\"name\": \"recall_score_macro\", \"run_id\": \"AutoML_c8c8ea84-30b2-4eca-86eb-70b1d93365ba\", \"categories\": [0], \"series\": [{\"data\": [0.9374064205530366]}]}, {\"name\": \"average_precision_score_micro\", \"run_id\": \"AutoML_c8c8ea84-30b2-4eca-86eb-70b1d93365ba\", \"categories\": [0], \"series\": [{\"data\": [0.98922331457827]}]}, {\"name\": \"average_precision_score_weighted\", \"run_id\": \"AutoML_c8c8ea84-30b2-4eca-86eb-70b1d93365ba\", \"categories\": [0], \"series\": [{\"data\": [0.9881229516289634]}]}, {\"name\": \"recall_score_weighted\", \"run_id\": \"AutoML_c8c8ea84-30b2-4eca-86eb-70b1d93365ba\", \"categories\": [0], \"series\": [{\"data\": [0.9453349773941636]}]}, {\"name\": \"precision_score_macro\", \"run_id\": \"AutoML_c8c8ea84-30b2-4eca-86eb-70b1d93365ba\", \"categories\": [0], \"series\": [{\"data\": [0.93982148185134]}]}, {\"name\": \"norm_macro_recall\", \"run_id\": \"AutoML_c8c8ea84-30b2-4eca-86eb-70b1d93365ba\", \"categories\": [0], \"series\": [{\"data\": [0.8748128411060732]}]}], \"run_logs\": \"\\nRun is completed.\", \"graph\": {}, \"widget_settings\": {\"childWidgetDisplay\": \"popup\", \"send_telemetry\": false, \"log_level\": \"INFO\", \"sdk_version\": \"1.48.0\"}, \"loading\": false}"
          },
          "metadata": {},
          "output_type": "display_data"
        },
        {
          "data": {
            "text/html": [
              "<table style=\"width:100%\"><tr><th>Experiment</th><th>Id</th><th>Type</th><th>Status</th><th>Details Page</th><th>Docs Page</th></tr><tr><td>mslearn-diabetes-automl-sdk</td><td>AutoML_c8c8ea84-30b2-4eca-86eb-70b1d93365ba</td><td>automl</td><td>NotStarted</td><td><a href=\"https://ml.azure.com/runs/AutoML_c8c8ea84-30b2-4eca-86eb-70b1d93365ba?wsid=/subscriptions/0bb59590-d012-407d-a545-7513aae8c4a7/resourcegroups/dsba6190-class-rg/workspaces/dsba6190ml&amp;tid=88d59d7d-aecb-41b2-90c5-55595de02536\" target=\"_blank\" rel=\"noopener\">Link to Azure Machine Learning studio</a></td><td><a href=\"https://docs.microsoft.com/en-us/python/api/overview/azure/ml/intro?view=azure-ml-py\" target=\"_blank\" rel=\"noopener\">Link to Documentation</a></td></tr></table>"
            ],
            "text/plain": [
              "<IPython.core.display.HTML object>"
            ]
          },
          "metadata": {},
          "output_type": "display_data"
        },
        {
          "name": "stdout",
          "output_type": "stream",
          "text": [
            "\n",
            "Current status: FeaturesGeneration. Generating features for the dataset.\n",
            "Current status: DatasetFeaturizationCompleted. Completed fit featurizers and featurizing the dataset.\n",
            "Current status: ModelSelection. Beginning model selection.\n",
            "\n",
            "********************************************************************************************\n",
            "DATA GUARDRAILS: \n",
            "\n",
            "TYPE:         Class balancing detection\n",
            "STATUS:       PASSED\n",
            "DESCRIPTION:  Your inputs were analyzed, and all classes are balanced in your training data.\n",
            "              Learn more about imbalanced data: https://aka.ms/AutomatedMLImbalancedData\n",
            "\n",
            "********************************************************************************************\n",
            "\n",
            "TYPE:         Missing feature values imputation\n",
            "STATUS:       PASSED\n",
            "DESCRIPTION:  No feature missing values were detected in the training data.\n",
            "              Learn more about missing value imputation: https://aka.ms/AutomatedMLFeaturization\n",
            "\n",
            "********************************************************************************************\n",
            "\n",
            "TYPE:         High cardinality feature detection\n",
            "STATUS:       PASSED\n",
            "DESCRIPTION:  Your inputs were analyzed, and no high cardinality features were detected.\n",
            "              Learn more about high cardinality feature handling: https://aka.ms/AutomatedMLFeaturization\n",
            "\n",
            "********************************************************************************************\n",
            "\n",
            "********************************************************************************************\n",
            "ITER: The iteration being evaluated.\n",
            "PIPELINE: A summary description of the pipeline being evaluated.\n",
            "DURATION: Time taken for the current iteration.\n",
            "METRIC: The result of computing score on the fitted pipeline.\n",
            "BEST: The best observed score thus far.\n",
            "********************************************************************************************\n",
            "\n",
            " ITER   PIPELINE                                       DURATION            METRIC      BEST\n",
            "    0   MaxAbsScaler LightGBM                          0:00:10             0.9433    0.9433\n",
            "    1   MaxAbsScaler XGBoostClassifier                 0:00:11             0.9441    0.9441\n",
            "    3    StackEnsemble                                 0:00:30             0.9445    0.9445\n",
            "    2    VotingEnsemble                                0:00:29             0.9453    0.9453\n"
          ]
        },
        {
          "data": {
            "text/plain": [
              "{'runId': 'AutoML_c8c8ea84-30b2-4eca-86eb-70b1d93365ba',\n",
              " 'target': 'gamma-amarripe-automl',\n",
              " 'status': 'Completed',\n",
              " 'startTimeUtc': '2023-03-25T20:12:07.659254Z',\n",
              " 'endTimeUtc': '2023-03-25T20:49:12.13214Z',\n",
              " 'services': {},\n",
              " 'properties': {'num_iterations': '4',\n",
              "  'training_type': 'TrainFull',\n",
              "  'acquisition_function': 'EI',\n",
              "  'primary_metric': 'accuracy',\n",
              "  'train_split': '0',\n",
              "  'acquisition_parameter': '0',\n",
              "  'num_cross_validation': None,\n",
              "  'target': 'gamma-amarripe-automl',\n",
              "  'AMLSettingsJsonString': '{\"path\":null,\"name\":\"Automated ML Experiment\",\"subscription_id\":\"0bb59590-d012-407d-a545-7513aae8c4a7\",\"resource_group\":\"dsba6190-class-rg\",\"workspace_name\":\"dsba6190ml\",\"region\":\"eastus\",\"compute_target\":\"gamma-amarripe-automl\",\"spark_service\":null,\"azure_service\":\"remote\",\"many_models\":false,\"pipeline_fetch_max_batch_size\":1,\"enable_batch_run\":true,\"enable_parallel_run\":false,\"num_procs\":null,\"enable_run_restructure\":false,\"start_auxiliary_runs_before_parent_complete\":false,\"enable_code_generation\":true,\"iterations\":4,\"primary_metric\":\"accuracy\",\"task_type\":\"classification\",\"positive_label\":null,\"data_script\":null,\"test_size\":0.0,\"test_include_predictions_only\":false,\"validation_size\":0.0,\"n_cross_validations\":null,\"y_min\":null,\"y_max\":null,\"num_classes\":null,\"featurization\":\"auto\",\"_ignore_package_version_incompatibilities\":false,\"is_timeseries\":false,\"max_cores_per_iteration\":1,\"max_concurrent_iterations\":2,\"iteration_timeout_minutes\":null,\"mem_in_mb\":null,\"enforce_time_on_windows\":false,\"experiment_timeout_minutes\":8640,\"experiment_exit_score\":null,\"partition_column_names\":null,\"whitelist_models\":null,\"blacklist_algos\":[\"TensorFlowLinearClassifier\",\"TensorFlowDNN\"],\"supported_models\":[\"SVM\",\"DecisionTree\",\"TensorFlowDNN\",\"XGBoostClassifier\",\"LinearSVM\",\"GradientBoosting\",\"RandomForest\",\"LogisticRegression\",\"AveragedPerceptronClassifier\",\"LightGBM\",\"SGD\",\"KNN\",\"TensorFlowLinearClassifier\",\"BernoulliNaiveBayes\",\"ExtremeRandomTrees\",\"TabnetClassifier\",\"MultinomialNaiveBayes\"],\"private_models\":[],\"auto_blacklist\":true,\"blacklist_samples_reached\":false,\"exclude_nan_labels\":true,\"verbosity\":20,\"_debug_log\":\"azureml_automl.log\",\"show_warnings\":false,\"model_explainability\":true,\"service_url\":null,\"sdk_url\":null,\"sdk_packages\":null,\"enable_onnx_compatible_models\":false,\"enable_split_onnx_featurizer_estimator_models\":false,\"vm_type\":\"STANDARD_DS11_V2\",\"telemetry_verbosity\":20,\"send_telemetry\":true,\"enable_dnn\":false,\"scenario\":\"AutoML\",\"environment_label\":null,\"save_mlflow\":false,\"enable_categorical_indicators\":false,\"force_text_dnn\":false,\"enable_feature_sweeping\":true,\"enable_early_stopping\":true,\"early_stopping_n_iters\":10,\"arguments\":null,\"dataset_id\":\"c615cfa6-53a6-48a7-a97a-169a4c0b13fb\",\"hyperdrive_config\":null,\"validation_dataset_id\":\"7e90cb3b-f4a6-4d62-bbd8-455415239ab6\",\"run_source\":null,\"metrics\":null,\"enable_metric_confidence\":false,\"enable_ensembling\":true,\"enable_stack_ensembling\":true,\"ensemble_iterations\":4,\"enable_tf\":false,\"enable_subsampling\":false,\"subsample_seed\":null,\"enable_nimbusml\":false,\"enable_streaming\":false,\"force_streaming\":false,\"track_child_runs\":true,\"n_best_runs\":1,\"allowed_private_models\":[],\"label_column_name\":\"Diabetic\",\"weight_column_name\":null,\"cv_split_column_names\":null,\"enable_local_managed\":false,\"_local_managed_run_id\":null,\"cost_mode\":1,\"lag_length\":0,\"metric_operation\":\"maximize\",\"preprocess\":true}',\n",
              "  'DataPrepJsonString': '{\\\\\"training_data\\\\\": {\\\\\"datasetId\\\\\": \\\\\"c615cfa6-53a6-48a7-a97a-169a4c0b13fb\\\\\"}, \\\\\"validation_data\\\\\": {\\\\\"datasetId\\\\\": \\\\\"7e90cb3b-f4a6-4d62-bbd8-455415239ab6\\\\\"}, \\\\\"datasets\\\\\": 0}',\n",
              "  'EnableSubsampling': 'False',\n",
              "  'runTemplate': 'AutoML',\n",
              "  'azureml.runsource': 'automl',\n",
              "  'display_task_type': 'classification',\n",
              "  'dependencies_versions': '{\"azureml-widgets\": \"1.48.0\", \"azureml-training-tabular\": \"1.48.0\", \"azureml-train\": \"1.48.0\", \"azureml-train-restclients-hyperdrive\": \"1.48.0\", \"azureml-train-core\": \"1.48.0\", \"azureml-train-automl\": \"1.48.0\", \"azureml-train-automl-runtime\": \"1.48.0\", \"azureml-train-automl-client\": \"1.48.0\", \"azureml-tensorboard\": \"1.48.0\", \"azureml-telemetry\": \"1.48.0\", \"azureml-sdk\": \"1.48.0\", \"azureml-samples\": \"0+unknown\", \"azureml-responsibleai\": \"1.48.0\", \"azureml-pipeline\": \"1.48.0\", \"azureml-pipeline-steps\": \"1.48.0\", \"azureml-pipeline-core\": \"1.48.0\", \"azureml-opendatasets\": \"1.48.0\", \"azureml-mlflow\": \"1.48.0\", \"azureml-interpret\": \"1.48.0\", \"azureml-inference-server-http\": \"0.7.7\", \"azureml-explain-model\": \"1.48.0\", \"azureml-defaults\": \"1.48.0\", \"azureml-dataset-runtime\": \"1.48.0\", \"azureml-dataprep\": \"4.8.3\", \"azureml-dataprep-rslex\": \"2.15.1\", \"azureml-dataprep-native\": \"38.0.0\", \"azureml-datadrift\": \"1.48.0\", \"azureml-core\": \"1.48.0\", \"azureml-contrib-services\": \"1.48.0\", \"azureml-contrib-server\": \"1.48.0\", \"azureml-contrib-reinforcementlearning\": \"1.48.0\", \"azureml-contrib-pipeline-steps\": \"1.48.0\", \"azureml-contrib-notebook\": \"1.48.0\", \"azureml-contrib-fairness\": \"1.48.0\", \"azureml-contrib-dataset\": \"1.48.0\", \"azureml-contrib-automl-pipeline-steps\": \"1.48.0\", \"azureml-cli-common\": \"1.48.0\", \"azureml-automl-runtime\": \"1.48.0.post1\", \"azureml-automl-dnn-nlp\": \"1.48.0\", \"azureml-automl-core\": \"1.48.0\", \"azureml-accel-models\": \"1.48.0\"}',\n",
              "  '_aml_system_scenario_identification': 'Remote.Parent',\n",
              "  'ClientType': 'SDK',\n",
              "  'PlatformVersion': 'DPV1',\n",
              "  'environment_cpu_name': 'AzureML-AutoML',\n",
              "  'environment_cpu_label': 'nimbus-deprecation',\n",
              "  'environment_gpu_name': 'AzureML-AutoML-GPU',\n",
              "  'environment_gpu_label': 'prod',\n",
              "  'root_attribution': 'automl',\n",
              "  'attribution': 'AutoML',\n",
              "  'Orchestrator': 'AutoML',\n",
              "  'CancelUri': 'https://eastus.api.azureml.ms/jasmine/v1.0/subscriptions/0bb59590-d012-407d-a545-7513aae8c4a7/resourceGroups/dsba6190-class-rg/providers/Microsoft.MachineLearningServices/workspaces/dsba6190ml/experimentids/f4f2ee92-a05d-4b08-856a-6167252eefc7/cancel/AutoML_c8c8ea84-30b2-4eca-86eb-70b1d93365ba',\n",
              "  'ClientSdkVersion': '1.48.0.post2',\n",
              "  'snapshotId': '00000000-0000-0000-0000-000000000000',\n",
              "  'SetupRunId': 'AutoML_c8c8ea84-30b2-4eca-86eb-70b1d93365ba_setup',\n",
              "  'SetupRunContainerId': 'dcid.AutoML_c8c8ea84-30b2-4eca-86eb-70b1d93365ba_setup',\n",
              "  'FeaturizationRunJsonPath': 'featurizer_container.json',\n",
              "  'FeaturizationRunId': 'AutoML_c8c8ea84-30b2-4eca-86eb-70b1d93365ba_featurize',\n",
              "  'ProblemInfoJsonString': '{\"dataset_num_categorical\": 0, \"is_sparse\": true, \"subsampling\": false, \"has_extra_col\": true, \"dataset_classes\": 2, \"dataset_features\": 24, \"dataset_samples\": 5582, \"single_frequency_class_detected\": false}',\n",
              "  'ModelExplainRunId': 'AutoML_c8c8ea84-30b2-4eca-86eb-70b1d93365ba_ModelExplain'},\n",
              " 'inputDatasets': [{'dataset': {'id': 'c615cfa6-53a6-48a7-a97a-169a4c0b13fb'}, 'consumptionDetails': {'type': 'RunInput', 'inputName': 'training_data', 'mechanism': 'Direct'}}, {'dataset': {'id': '7e90cb3b-f4a6-4d62-bbd8-455415239ab6'}, 'consumptionDetails': {'type': 'RunInput', 'inputName': 'validation_data', 'mechanism': 'Direct'}}],\n",
              " 'outputDatasets': [],\n",
              " 'logFiles': {},\n",
              " 'submittedBy': 'Anulitha Marripeddi Vijayalaksmi'}"
            ]
          },
          "execution_count": 6,
          "metadata": {},
          "output_type": "execute_result"
        }
      ],
      "source": [
        "from azureml.core.experiment import Experiment\n",
        "from azureml.widgets import RunDetails\n",
        "\n",
        "print('Submitting Auto ML experiment...')\n",
        "automl_experiment = Experiment(ws, 'mslearn-diabetes-automl-sdk')\n",
        "automl_run = automl_experiment.submit(automl_config)\n",
        "RunDetails(automl_run).show()\n",
        "automl_run.wait_for_completion(show_output=True)"
      ]
    },
    {
      "cell_type": "code",
      "execution_count": null,
      "id": "ce8d2573-f68c-4d41-869f-63fdfb7f9d3d",
      "metadata": {
        "id": "ce8d2573-f68c-4d41-869f-63fdfb7f9d3d",
        "outputId": "6225c56f-356e-4ec8-9b0b-12efc8ed263c"
      },
      "outputs": [
        {
          "name": "stdout",
          "output_type": "stream",
          "text": [
            "Run ID AutoML_c8c8ea84-30b2-4eca-86eb-70b1d93365ba_2\n",
            "\t {'norm_macro_recall': 0.8748128411060732}\n",
            "\t {'average_precision_score_weighted': 0.9881229516289634}\n",
            "\t {'recall_score_weighted': 0.9453349773941636}\n",
            "\t {'recall_score_macro': 0.9374064205530366}\n",
            "\t {'AUC_macro': 0.9875373750066234}\n",
            "\t {'precision_score_macro': 0.93982148185134}\n",
            "\t {'AUC_weighted': 0.9875373750066233}\n",
            "\t {'balanced_accuracy': 0.9374064205530366}\n",
            "\t {'average_precision_score_micro': 0.98922331457827}\n",
            "\t {'average_precision_score_macro': 0.9854426139147703}\n",
            "\t {'f1_score_weighted': 0.9452597304994242}\n",
            "\t {'AUC_micro': 0.988956648116079}\n",
            "\t {'accuracy': 0.9453349773941636}\n",
            "\t {'f1_score_macro': 0.9385961999319525}\n",
            "\t {'precision_score_weighted': 0.945213206940457}\n",
            "\t {'log_loss': 0.13532807040573105}\n",
            "\t {'weighted_accuracy': 0.9517268377582002}\n",
            "\t {'matthews_correlation': 0.877224577993405}\n",
            "\t {'recall_score_micro': 0.9453349773941636}\n",
            "\t {'f1_score_micro': 0.9453349773941636}\n",
            "\t {'precision_score_micro': 0.9453349773941636}\n",
            "\t {'confusion_matrix': 'aml://artifactId/ExperimentRun/dcid.AutoML_c8c8ea84-30b2-4eca-86eb-70b1d93365ba_2/confusion_matrix'}\n",
            "\t {'accuracy_table': 'aml://artifactId/ExperimentRun/dcid.AutoML_c8c8ea84-30b2-4eca-86eb-70b1d93365ba_2/accuracy_table'}\n",
            "Run ID AutoML_c8c8ea84-30b2-4eca-86eb-70b1d93365ba_3\n",
            "\t {'log_loss': 0.1584244219609924}\n",
            "\t {'precision_score_macro': 0.9391383969601779}\n",
            "\t {'AUC_macro': 0.9876108003360913}\n",
            "\t {'AUC_micro': 0.9886758806376699}\n",
            "\t {'f1_score_micro': 0.9445129469790382}\n",
            "\t {'AUC_weighted': 0.9876108003360913}\n",
            "\t {'accuracy': 0.9445129469790382}\n",
            "\t {'balanced_accuracy': 0.936183926665506}\n",
            "\t {'precision_score_weighted': 0.9443685756720603}\n",
            "\t {'average_precision_score_weighted': 0.9881888244291531}\n",
            "\t {'recall_score_micro': 0.9445129469790382}\n",
            "\t {'recall_score_macro': 0.936183926665506}\n",
            "\t {'norm_macro_recall': 0.872367853331012}\n",
            "\t {'precision_score_micro': 0.9445129469790382}\n",
            "\t {'weighted_accuracy': 0.9512276538141041}\n",
            "\t {'average_precision_score_micro': 0.9886375540539625}\n",
            "\t {'recall_score_weighted': 0.9445129469790382}\n",
            "\t {'f1_score_macro': 0.9376346331853891}\n",
            "\t {'average_precision_score_macro': 0.9855202476824463}\n",
            "\t {'matthews_correlation': 0.8753173375083714}\n",
            "\t {'f1_score_weighted': 0.9444193065684812}\n",
            "\t {'accuracy_table': 'aml://artifactId/ExperimentRun/dcid.AutoML_c8c8ea84-30b2-4eca-86eb-70b1d93365ba_3/accuracy_table'}\n",
            "\t {'confusion_matrix': 'aml://artifactId/ExperimentRun/dcid.AutoML_c8c8ea84-30b2-4eca-86eb-70b1d93365ba_3/confusion_matrix'}\n",
            "Run ID AutoML_c8c8ea84-30b2-4eca-86eb-70b1d93365ba_1\n",
            "\t {'precision_score_macro': 0.9380753077678134}\n",
            "\t {'recall_score_macro': 0.9364776279833771}\n",
            "\t {'precision_score_weighted': 0.9440125380903335}\n",
            "\t {'AUC_micro': 0.9886331404619554}\n",
            "\t {'AUC_weighted': 0.9871808458295172}\n",
            "\t {'average_precision_score_micro': 0.9889380802373132}\n",
            "\t {'log_loss': 0.1472777067339016}\n",
            "\t {'f1_score_micro': 0.9441019317714755}\n",
            "\t {'f1_score_weighted': 0.9440508733389782}\n",
            "\t {'AUC_macro': 0.987180845829517}\n",
            "\t {'average_precision_score_macro': 0.9850657970103522}\n",
            "\t {'precision_score_micro': 0.9441019317714755}\n",
            "\t {'weighted_accuracy': 0.9502485087795045}\n",
            "\t {'norm_macro_recall': 0.8729552559667542}\n",
            "\t {'average_precision_score_weighted': 0.9878183799222211}\n",
            "\t {'recall_score_weighted': 0.9441019317714755}\n",
            "\t {'recall_score_micro': 0.9441019317714755}\n",
            "\t {'matthews_correlation': 0.8745514763868005}\n",
            "\t {'balanced_accuracy': 0.9364776279833771}\n",
            "\t {'f1_score_macro': 0.9372686115555825}\n",
            "\t {'accuracy': 0.9441019317714755}\n",
            "\t {'accuracy_table': 'aml://artifactId/ExperimentRun/dcid.AutoML_c8c8ea84-30b2-4eca-86eb-70b1d93365ba_1/accuracy_table'}\n",
            "\t {'confusion_matrix': 'aml://artifactId/ExperimentRun/dcid.AutoML_c8c8ea84-30b2-4eca-86eb-70b1d93365ba_1/confusion_matrix'}\n",
            "Run ID AutoML_c8c8ea84-30b2-4eca-86eb-70b1d93365ba_worker_1\n",
            "Run ID AutoML_c8c8ea84-30b2-4eca-86eb-70b1d93365ba_0\n",
            "\t {'average_precision_score_weighted': 0.9876011950777641}\n",
            "\t {'recall_score_micro': 0.9432799013563502}\n",
            "\t {'precision_score_macro': 0.938115591471739}\n",
            "\t {'norm_macro_recall': 0.8687003716684203}\n",
            "\t {'recall_score_macro': 0.9343501858342101}\n",
            "\t {'average_precision_score_micro': 0.988759072759968}\n",
            "\t {'f1_score_micro': 0.9432799013563502}\n",
            "\t {'AUC_macro': 0.9869484584465622}\n",
            "\t {'recall_score_weighted': 0.9432799013563502}\n",
            "\t {'precision_score_micro': 0.9432799013563502}\n",
            "\t {'f1_score_weighted': 0.9431575090349859}\n",
            "\t {'f1_score_macro': 0.936189889025894}\n",
            "\t {'precision_score_weighted': 0.9431046278087513}\n",
            "\t {'AUC_micro': 0.9884790731091821}\n",
            "\t {'accuracy': 0.9432799013563502}\n",
            "\t {'log_loss': 0.13727359155981583}\n",
            "\t {'average_precision_score_macro': 0.9848236423271103}\n",
            "\t {'matthews_correlation': 0.8724576518607987}\n",
            "\t {'weighted_accuracy': 0.9504788778979597}\n",
            "\t {'AUC_weighted': 0.9869484584465622}\n",
            "\t {'balanced_accuracy': 0.9343501858342101}\n",
            "\t {'confusion_matrix': 'aml://artifactId/ExperimentRun/dcid.AutoML_c8c8ea84-30b2-4eca-86eb-70b1d93365ba_0/confusion_matrix'}\n",
            "\t {'accuracy_table': 'aml://artifactId/ExperimentRun/dcid.AutoML_c8c8ea84-30b2-4eca-86eb-70b1d93365ba_0/accuracy_table'}\n",
            "Run ID AutoML_c8c8ea84-30b2-4eca-86eb-70b1d93365ba_worker_0\n",
            "Run ID AutoML_c8c8ea84-30b2-4eca-86eb-70b1d93365ba_featurize\n",
            "Run ID AutoML_c8c8ea84-30b2-4eca-86eb-70b1d93365ba_setup\n"
          ]
        }
      ],
      "source": [
        "for run in automl_run.get_children():\n",
        "    print('Run ID', run.id)\n",
        "    for metric in run.get_metrics():\n",
        "        print('\\t', run.get_metrics(metric))"
      ]
    },
    {
      "cell_type": "code",
      "execution_count": null,
      "id": "99982b66-4638-4a7e-af2a-33acee6921da",
      "metadata": {
        "id": "99982b66-4638-4a7e-af2a-33acee6921da",
        "outputId": "07c409a9-de51-4d71-ba0f-2f77345df2e8"
      },
      "outputs": [
        {
          "name": "stdout",
          "output_type": "stream",
          "text": [
            "Run(Experiment: mslearn-diabetes-automl-sdk,\n",
            "Id: AutoML_c8c8ea84-30b2-4eca-86eb-70b1d93365ba_2,\n",
            "Type: azureml.scriptrun,\n",
            "Status: Completed)\n",
            "\n",
            "Best Model Definition:\n",
            "Pipeline(memory=None,\n",
            "         steps=[('datatransformer',\n",
            "                 DataTransformer(enable_dnn=False, enable_feature_sweeping=True, feature_sweeping_config={}, feature_sweeping_timeout=86400, featurization_config=None, force_text_dnn=False, is_cross_validation=False, is_onnx_compatible=False, observer=None, task='classification', working_dir='/mnt/batch/tasks/shared/LS_root/moun...\n",
            "                 PreFittedSoftVotingClassifier(classification_labels=array([0, 1]), estimators=[('1', Pipeline(memory=None, steps=[('maxabsscaler', MaxAbsScaler(copy=True)), ('xgboostclassifier', XGBoostClassifier(n_jobs=1, problem_info=ProblemInfo(gpu_training_param_dict={'processing_unit_type': 'cpu'}), random_state=0, tree_method='auto'))], verbose=False)), ('0', Pipeline(memory=None, steps=[('maxabsscaler', MaxAbsScaler(copy=True)), ('lightgbmclassifier', LightGBMClassifier(min_data_in_leaf=20, n_jobs=1, problem_info=ProblemInfo(gpu_training_param_dict={'processing_unit_type': 'cpu'}), random_state=None))], verbose=False))], flatten_transform=None, weights=[0.3333333333333333, 0.6666666666666666]))],\n",
            "         verbose=False)\n",
            "\n",
            "Best Run Transformations:\n",
            "datatransformer\n",
            "prefittedsoftvotingclassifier\n",
            "\n",
            "Best Run Metrics:\n",
            "norm_macro_recall 0.8748128411060732\n",
            "average_precision_score_weighted 0.9881229516289634\n",
            "recall_score_weighted 0.9453349773941636\n",
            "recall_score_macro 0.9374064205530366\n",
            "AUC_macro 0.9875373750066234\n",
            "precision_score_macro 0.93982148185134\n",
            "AUC_weighted 0.9875373750066233\n",
            "balanced_accuracy 0.9374064205530366\n",
            "average_precision_score_micro 0.98922331457827\n",
            "average_precision_score_macro 0.9854426139147703\n",
            "f1_score_weighted 0.9452597304994242\n",
            "AUC_micro 0.988956648116079\n",
            "accuracy 0.9453349773941636\n",
            "f1_score_macro 0.9385961999319525\n",
            "precision_score_weighted 0.945213206940457\n",
            "log_loss 0.13532807040573105\n",
            "weighted_accuracy 0.9517268377582002\n",
            "matthews_correlation 0.877224577993405\n",
            "recall_score_micro 0.9453349773941636\n",
            "f1_score_micro 0.9453349773941636\n",
            "precision_score_micro 0.9453349773941636\n",
            "confusion_matrix aml://artifactId/ExperimentRun/dcid.AutoML_c8c8ea84-30b2-4eca-86eb-70b1d93365ba_2/confusion_matrix\n",
            "accuracy_table aml://artifactId/ExperimentRun/dcid.AutoML_c8c8ea84-30b2-4eca-86eb-70b1d93365ba_2/accuracy_table\n"
          ]
        }
      ],
      "source": [
        "\n",
        "best_run, fitted_model = automl_run.get_output()\n",
        "print(best_run)\n",
        "print('\\nBest Model Definition:')\n",
        "print(fitted_model)\n",
        "print('\\nBest Run Transformations:')\n",
        "for step in fitted_model.named_steps:\n",
        "    print(step)\n",
        "print('\\nBest Run Metrics:')\n",
        "best_run_metrics = best_run.get_metrics()\n",
        "for metric_name in best_run_metrics:\n",
        "    metric = best_run_metrics[metric_name]\n",
        "    print(metric_name, metric)"
      ]
    },
    {
      "cell_type": "code",
      "execution_count": null,
      "id": "d78d213a-e170-4e38-ab10-1d1a88a3a7e7",
      "metadata": {
        "id": "d78d213a-e170-4e38-ab10-1d1a88a3a7e7",
        "outputId": "908bb494-ff73-43db-9eec-00fd758ffc74"
      },
      "outputs": [
        {
          "name": "stderr",
          "output_type": "stream",
          "text": [
            "INFO:interpret_community.common.explanation_utils:Using default datastore for uploads\n"
          ]
        },
        {
          "name": "stdout",
          "output_type": "stream",
          "text": [
            "{'Pregnancies_CharGramCountVectorizer_0': 1.183563410216419, 'Age_MeanImputer': 1.0296053630165958, 'BMI_MeanImputer': 0.7504240663891858, 'Pregnancies_CharGramCountVectorizer_1': 0.6054966299842207, 'SerumInsulin_MeanImputer': 0.6039335690649478, 'PlasmaGlucose_MeanImputer': 0.5267300998275708, 'TricepsThickness_MeanImputer': 0.3388523821774129, 'DiastolicBloodPressure_MeanImputer': 0.2706481177820328, 'DiabetesPedigree_MeanImputer': 0.16247908070687786, 'Pregnancies_CharGramCountVectorizer_7': 0.11046522334932957, 'Pregnancies_CharGramCountVectorizer_2': 0.09646530179795205, 'Pregnancies_CharGramCountVectorizer_5': 0.09498058207450435, 'Pregnancies_CharGramCountVectorizer_4': 0.08041629161456178, 'Pregnancies_CharGramCountVectorizer_6': 0.05691390920807304, 'Pregnancies_CharGramCountVectorizer_3': 0.034629180082967004, 'PatientID_MeanImputer': 0.03267007118739496, 'Column1_MeanImputer': 0.0318964594613034, 'Pregnancies_CharGramCountVectorizer_10': 0.01768088297403924, 'Pregnancies_CharGramCountVectorizer_9': 0.01517476427637358, 'Pregnancies_CharGramCountVectorizer_8': 0.01087542916607808, 'Pregnancies_CharGramCountVectorizer_13': 0.008008314641366258, 'Pregnancies_CharGramCountVectorizer_12': 0.002861530890923452, 'Pregnancies_CharGramCountVectorizer_11': 0.0, 'Pregnancies_CharGramCountVectorizer_14': 0.0}\n"
          ]
        }
      ],
      "source": [
        "from azureml.interpret import ExplanationClient\n",
        "\n",
        "client = ExplanationClient.from_run(best_run)\n",
        "engineered_explanations = client.download_model_explanation(raw=False)\n",
        "print(engineered_explanations.get_feature_importance_dict())"
      ]
    },
    {
      "cell_type": "code",
      "execution_count": null,
      "id": "7f03d368-0f34-4cb6-9c0b-e45326b39329",
      "metadata": {
        "id": "7f03d368-0f34-4cb6-9c0b-e45326b39329",
        "outputId": "5f5fd287-a67c-41e8-e89d-318ed9398a0c"
      },
      "outputs": [
        {
          "name": "stdout",
          "output_type": "stream",
          "text": [
            "You can visualize the engineered explanations under the 'Explanations (preview)' tab in the AutoML run at:-\n",
            "https://ml.azure.com/runs/AutoML_c8c8ea84-30b2-4eca-86eb-70b1d93365ba?wsid=/subscriptions/0bb59590-d012-407d-a545-7513aae8c4a7/resourcegroups/dsba6190-class-rg/workspaces/dsba6190ml&tid=88d59d7d-aecb-41b2-90c5-55595de02536\n"
          ]
        }
      ],
      "source": [
        "\n",
        "print(\n",
        "    \"You can visualize the engineered explanations under the 'Explanations (preview)' tab in the AutoML run at:-\\n\"\n",
        "    + automl_run.get_portal_url()\n",
        ")"
      ]
    },
    {
      "cell_type": "code",
      "execution_count": null,
      "id": "4d3d2bcc-a8ff-4fdb-94ed-9af6e5325c1a",
      "metadata": {
        "id": "4d3d2bcc-a8ff-4fdb-94ed-9af6e5325c1a",
        "outputId": "b4029cea-d435-4602-cf04-9b61c8a1bff4"
      },
      "outputs": [
        {
          "name": "stdout",
          "output_type": "stream",
          "text": [
            "gamma_amarripe_model version: 1\n",
            "\t Training context : Auto ML\n",
            "\t AUC : 0.9875373750066233\n",
            "\t Accuracy : 0.9453349773941636\n",
            "\n",
            "\n",
            "Production_Diabetes_Ensemble version: 1\n",
            "\t Training Context : Inline Training\n",
            "\t azureml.datastoreId : /subscriptions/0bb59590-d012-407d-a545-7513aae8c4a7/resourceGroups/dsba6190-class-rg/providers/Microsoft.MachineLearningServices/workspaces/dsba6190ml/datastores/workspaceartifactstore\n",
            "\n",
            "\n",
            "sgupta46_xgb_diabetes_model_new version: 5\n",
            "\t Training context : Inline Training\n",
            "\n",
            "\n",
            "sgupta46_stack_diabetes_model_new version: 4\n",
            "\t Training context : Inline Training\n",
            "\n",
            "\n",
            "sgupta46_stack_diabetes_model_new version: 3\n",
            "\t Training context : Inline Training\n",
            "\n",
            "\n",
            "sgupta46_stack_diabetes_model_new version: 2\n",
            "\t Training context : Inline Training\n",
            "\n",
            "\n",
            "sgupta46_stack_diabetes_model_new version: 1\n",
            "\t Training context : Inline Training\n",
            "\n",
            "\n",
            "sgupta46_xgb_diabetes_model_new version: 4\n",
            "\t Training context : Inline Training\n",
            "\n",
            "\n",
            "inst_diabetes_model version: 5\n",
            "\t Training context : Inline Training\n",
            "\n",
            "\n",
            "sakshi_test123 version: 1\n",
            "\t azureml.datastoreId : /subscriptions/0bb59590-d012-407d-a545-7513aae8c4a7/resourceGroups/dsba6190-class-rg/providers/Microsoft.MachineLearningServices/workspaces/dsba6190ml/datastores/workspaceartifactstore\n",
            "\n",
            "\n",
            "sgupta46_xgb_diabetes_model_new version: 3\n",
            "\t Training context : Inline Training\n",
            "\n",
            "\n",
            "sgupta46_xgb_diabetes_model_new version: 2\n",
            "\t Training context : Inline Training\n",
            "\n",
            "\n",
            "RA_AUTO_model version: 2\n",
            "\t Training context : Auto ML\n",
            "\t AUC : 0.9876425927467886\n",
            "\t Accuracy : 0.9445129469790382\n",
            "\t Precision : 0.9388955531063711\n",
            "\t F1 Score : 0.9376728345173955\n",
            "\n",
            "\n",
            "RA_AUTO_model version: 1\n",
            "\t Training context : Auto ML\n",
            "\t AUC : 0.9876425927467886\n",
            "\t Accuracy : 0.9445129469790382\n",
            "\n",
            "\n",
            "AUTOdiabetes_model version: 1\n",
            "\t Training context : Auto ML\n",
            "\t AUC : 0.9876425927467886\n",
            "\t Accuracy : 0.9445129469790382\n",
            "\n",
            "\n",
            "sgupta46_xgb_diabetes_model_new version: 1\n",
            "\t Training context : Inline Training\n",
            "\n",
            "\n",
            "diabetes_model version: 5\n",
            "\t Training context : Auto ML\n",
            "\t AUC : 0.9876425927467886\n",
            "\t Accuracy : 0.9445129469790382\n",
            "\n",
            "\n",
            "sgupta46_xgb_diabetes_model version: 3\n",
            "\t Training context : Inline Training\n",
            "\n",
            "\n",
            "sgupta46_xgb_diabetes_model version: 2\n",
            "\t Training context : Inline Training\n",
            "\n",
            "\n",
            "sgupta46_xgb_diabetes_model version: 1\n",
            "\t Training context : Inline Training\n",
            "\n",
            "\n",
            "AutoML623addd562 version: 1\n",
            "\n",
            "\n",
            "Liyu_AutoML version: 1\n",
            "\t azureml.datastoreId : /subscriptions/0bb59590-d012-407d-a545-7513aae8c4a7/resourceGroups/dsba6190-class-rg/providers/Microsoft.MachineLearningServices/workspaces/dsba6190ml/datastores/workspaceartifactstore\n",
            "\n",
            "\n",
            "inst_diabetes_model version: 4\n",
            "\t Training context : Inline Training\n",
            "\n",
            "\n",
            "diabetes_model version: 4\n",
            "\t Training context : Script\n",
            "\n",
            "\n",
            "Arpita_model_automl version: 1\n",
            "\t azureml.datastoreId : /subscriptions/0bb59590-d012-407d-a545-7513aae8c4a7/resourceGroups/dsba6190-class-rg/providers/Microsoft.MachineLearningServices/workspaces/dsba6190ml/datastores/workspaceartifactstore\n",
            "\n",
            "\n",
            "latest_diabetes_model version: 1\n",
            "\t Training context : Script\n",
            "\t AUC : 0.8589254658385093\n",
            "\t Accuracy : 0.7817047817047817\n",
            "\n",
            "\n",
            "diabetes_model version: 3\n",
            "\t Training context : Script\n",
            "\n",
            "\n",
            "rf version: 1\n",
            "\t Training context : Script\n",
            "\n",
            "\n",
            "diabetes_model version: 2\n",
            "\t Training context : Script\n",
            "\n",
            "\n",
            "Campoverde_Model version: 1\n",
            "\t azureml.datastoreId : /subscriptions/0bb59590-d012-407d-a545-7513aae8c4a7/resourceGroups/dsba6190-class-rg/providers/Microsoft.MachineLearningServices/workspaces/dsba6190ml/datastores/workspaceartifactstore\n",
            "\n",
            "\n",
            "alpha_dbento_diabetes_model version: 1\n",
            "\t Training context : Inline Training\n",
            "\n",
            "\n",
            "diabetes_model version: 1\n",
            "\t Training context : Auto ML\n",
            "\t AUC : 0.9876425927467886\n",
            "\t Accuracy : 0.9445129469790382\n",
            "\n",
            "\n",
            "esvensso_automl_diabetes_model version: 1\n",
            "\t Training context : AutoML\n",
            "\t AUC Weighed : 0.9926854012707769\n",
            "\t Weighted Accuracy : 0.9621668120983303\n",
            "\n",
            "\n",
            "AutoML_Jburns version: 1\n",
            "\n",
            "\n",
            "AutoML916272f8968 version: 1\n",
            "\n",
            "\n",
            "inst_automl_diabetes_model version: 3\n",
            "\t Training context : Inline Training\n",
            "\t AUC Weighed : 0.9921501711655808\n",
            "\t Weighted Accuracy : 0.9610813822458074\n",
            "\n",
            "\n",
            "inst_automl_diabetes_model version: 2\n",
            "\t Training context : Inline Training\n",
            "\t AUC Weighed : 0.9921501711655808\n",
            "\t Weighted Accuracy : 0.9610813822458074\n",
            "\n",
            "\n",
            "inst_automl_diabetes_model version: 1\n",
            "\t Training context : Inline Training\n",
            "\t AUC Weighed : 0.9921501711655808\n",
            "\t Weighted Accuracy : 0.9610813822458074\n",
            "\n",
            "\n"
          ]
        }
      ],
      "source": [
        "\n",
        "from azureml.core import Model\n",
        "\n",
        "# Register model\n",
        "best_run.register_model(model_path='outputs/model.pkl', model_name='gamma_amarripe_model',\n",
        "                        tags={'Training context':'Auto ML'},\n",
        "                        properties={'AUC': best_run_metrics['AUC_weighted'], 'Accuracy': best_run_metrics['accuracy']})\n",
        "\n",
        "# List registered models\n",
        "for model in Model.list(ws):\n",
        "    print(model.name, 'version:', model.version)\n",
        "    for tag_name in model.tags:\n",
        "        tag = model.tags[tag_name]\n",
        "        print ('\\t',tag_name, ':', tag)\n",
        "    for prop_name in model.properties:\n",
        "        prop = model.properties[prop_name]\n",
        "        print ('\\t',prop_name, ':', prop)\n",
        "    print('\\n')\n",
        "     "
      ]
    },
    {
      "cell_type": "code",
      "execution_count": null,
      "id": "9f67e18e-cd4c-4833-a11a-902e930aabad",
      "metadata": {
        "id": "9f67e18e-cd4c-4833-a11a-902e930aabad"
      },
      "outputs": [],
      "source": []
    }
  ],
  "metadata": {
    "kernelspec": {
      "display_name": "Python 3.8 - AzureML",
      "language": "python",
      "name": "python38-azureml"
    },
    "language_info": {
      "codemirror_mode": {
        "name": "ipython",
        "version": 3
      },
      "file_extension": ".py",
      "mimetype": "text/x-python",
      "name": "python",
      "nbconvert_exporter": "python",
      "pygments_lexer": "ipython3",
      "version": "3.8.10"
    },
    "colab": {
      "provenance": []
    }
  },
  "nbformat": 4,
  "nbformat_minor": 5
}